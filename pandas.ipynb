{
 "cells": [
  {
   "cell_type": "markdown",
   "id": "e833be5c",
   "metadata": {},
   "source": [
    "# Module: Pandas Assignments\n",
    "## Lesson: Pandas"
   ]
  },
  {
   "cell_type": "code",
   "execution_count": 1,
   "id": "4589b94c",
   "metadata": {},
   "outputs": [],
   "source": [
    "import pandas as pd\n",
    "import numpy as np"
   ]
  },
  {
   "cell_type": "markdown",
   "id": "1c81a242",
   "metadata": {},
   "source": [
    "### Assignment 1: DataFrame Creation and Indexing\n",
    "\n",
    "1. Create a Pandas DataFrame with 4 columns and 6 rows filled with random integers. Set the index to be the first column.\n",
    "2. Create a Pandas DataFrame with columns 'A', 'B', 'C' and index 'X', 'Y', 'Z'. Fill the DataFrame with random integers and access the element at row 'Y' and column 'B'."
   ]
  },
  {
   "cell_type": "code",
   "execution_count": 10,
   "id": "c9d30c2e",
   "metadata": {},
   "outputs": [
    {
     "name": "stdout",
     "output_type": "stream",
     "text": [
      "Original DataFrame:\n",
      "    A   B   C   D\n",
      "0  74  29   6  77\n",
      "1  48  45  26  36\n",
      "2  51  53   9  33\n",
      "3  82  72  13  62\n",
      "4  13  43  17   7\n",
      "5  94  44  97  55\n",
      "DataFrame with new index:\n",
      "     B   C   D\n",
      "A             \n",
      "74  29   6  77\n",
      "48  45  26  36\n",
      "51  53   9  33\n",
      "82  72  13  62\n",
      "13  43  17   7\n",
      "94  44  97  55\n",
      "Original DataFrame:\n",
      "    A   B   C   D\n",
      "0  15  45  25  79\n",
      "1  45  85  99   4\n",
      "2  96  35  22  90\n",
      "3  18  84  17  73\n",
      "4  80  50  79  11\n",
      "5  42  27  89  56\n",
      "DataFrame with new index:\n",
      "     B   C   D\n",
      "A             \n",
      "15  45  25  79\n",
      "45  85  99   4\n",
      "96  35  22  90\n",
      "18  84  17  73\n",
      "80  50  79  11\n",
      "42  27  89  56\n"
     ]
    }
   ],
   "source": [
    "# Create a Pandas DataFrame with 4 columns and 6 rows filled with random integers\n",
    "df = pd.DataFrame(np.random.randint(1, 100, size=(6, 4)), columns=['A', 'B', 'C', 'D'])\n",
    "print(\"Original DataFrame:\")\n",
    "print(df)\n",
    "\n",
    "# Set the index to be the first column\n",
    "df.set_index('A', inplace=True)\n",
    "print(\"DataFrame with new index:\")\n",
    "print(df)# Create a Pandas DataFrame with 4 columns and 6 rows filled with random integers\n",
    "df = pd.DataFrame(np.random.randint(1, 100, size=(6, 4)), columns=['A', 'B', 'C', 'D'])\n",
    "print(\"Original DataFrame:\")\n",
    "print(df)\n",
    "\n",
    "# Set the index to be the first column\n",
    "df.set_index('A', inplace=True)\n",
    "print(\"DataFrame with new index:\")\n",
    "print(df)\n"
   ]
  },
  {
   "cell_type": "code",
   "execution_count": 3,
   "id": "1c4c3424",
   "metadata": {},
   "outputs": [
    {
     "name": "stdout",
     "output_type": "stream",
     "text": [
      "DataFrame with custom index:\n",
      "    A   B   C\n",
      "X   2  64  67\n",
      "Y  26   3   6\n",
      "Z  68  92  47\n",
      "Element at index 'Y' and column 'B': 3\n"
     ]
    }
   ],
   "source": [
    "#Create a Pandas DataFrame with columns 'A', 'B', 'C' and index 'X', 'Y', 'Z'. Fill the DataFrame with random integers and access the element at row 'Y' and column 'B'.\n",
    "\n",
    "df = pd.DataFrame(np.random.randint(1, 100, size=(3, 3)), columns=['A', 'B', 'C'], index= ['X', 'Y', 'Z'])\n",
    "print(\"DataFrame with custom index:\")\n",
    "print(df)\n",
    "\n",
    "ele  = df.loc['Y', 'B']\n",
    "print(\"Element at index 'Y' and column 'B':\", ele)"
   ]
  },
  {
   "cell_type": "markdown",
   "id": "b41ce98e",
   "metadata": {},
   "source": [
    "### Assignment 2: DataFrame Operations\n",
    "\n",
    "1. Create a Pandas DataFrame with 3 columns and 5 rows filled with random integers. Add a new column that is the product of the first two columns.\n",
    "2. Create a Pandas DataFrame with 3 columns and 4 rows filled with random integers. Compute the row-wise and column-wise sum."
   ]
  },
  {
   "cell_type": "code",
   "execution_count": 4,
   "id": "eaec5dee",
   "metadata": {},
   "outputs": [
    {
     "name": "stdout",
     "output_type": "stream",
     "text": [
      "Original DataFrame:\n",
      "     A   B   C\n",
      "0  85  19  91\n",
      "1  70  95  82\n",
      "2  40  60  55\n",
      "3  81  73  64\n",
      "4   3  90   9\n",
      "DataFrame with new column 'Product':\n",
      "     A   B   C  Product\n",
      "0  85  19  91     1615\n",
      "1  70  95  82     6650\n",
      "2  40  60  55     2400\n",
      "3  81  73  64     5913\n",
      "4   3  90   9      270\n"
     ]
    }
   ],
   "source": [
    "#Create a Pandas DataFrame with 3 columns and 5 rows filled with random integers. Add a new column that is the product of the first two columns.\n",
    "\n",
    "df = pd.DataFrame(np.random.randint(1, 100, size=(5, 3)), columns=['A', 'B', 'C'])\n",
    "print(\"Original DataFrame:\\n\", df)\n",
    "\n",
    "new_col = df['A'] * df['B']\n",
    "df['Product'] = new_col\n",
    "print(\"DataFrame with new column 'Product':\\n\", df)"
   ]
  },
  {
   "cell_type": "code",
   "execution_count": 5,
   "id": "274dab28",
   "metadata": {},
   "outputs": [
    {
     "name": "stdout",
     "output_type": "stream",
     "text": [
      "Original DataFrame:\n",
      "     A   B   C\n",
      "0  16  43  98\n",
      "1  80  84  45\n",
      "2  22  46  10\n",
      "3  23  49  60\n",
      "Column-wise sum:\n",
      "A    141\n",
      "B    222\n",
      "C    213\n",
      "dtype: int64\n",
      "Row-wise sum:\n",
      "0    157\n",
      "1    209\n",
      "2     78\n",
      "3    132\n",
      "dtype: int64\n"
     ]
    }
   ],
   "source": [
    "#Create a Pandas DataFrame with 3 columns and 4 rows filled with random integers. Compute the row-wise and column-wise sum.\n",
    "\n",
    "df  = pd.DataFrame(np.random.randint(1,100, size=(4,3)), columns=['A','B','C'])\n",
    "print(f\"Original DataFrame:\\n\",df)\n",
    "\n",
    "col_sum = df.sum(axis=0)  # Column-wise sum\n",
    "row_sum = df.sum(axis=1)  # Row-wise sum\n",
    "print(f\"Column-wise sum:\\n{col_sum}\")\n",
    "print(f\"Row-wise sum:\\n{row_sum}\")"
   ]
  },
  {
   "cell_type": "markdown",
   "id": "fa865a92",
   "metadata": {},
   "source": [
    "### Assignment 3: Data Cleaning\n",
    "\n",
    "1. Create a Pandas DataFrame with 3 columns and 5 rows filled with random integers. Introduce some NaN values. Fill the NaN values with the mean of the respective columns.\n",
    "2. Create a Pandas DataFrame with 4 columns and 6 rows filled with random integers. Introduce some NaN values. Drop the rows with any NaN values."
   ]
  },
  {
   "cell_type": "code",
   "execution_count": 6,
   "id": "6f73e2d4",
   "metadata": {},
   "outputs": [
    {
     "name": "stdout",
     "output_type": "stream",
     "text": [
      "Original DataFrame with NaN values:\n",
      "       A     B     C\n",
      "0  91.0  69.0  27.0\n",
      "1  64.0   NaN  16.0\n",
      "2   NaN  90.0   7.0\n",
      "3  87.0  39.0   NaN\n",
      "4  64.0  67.0  84.0\n",
      "DataFrame after filling NaN values with column mean:\n",
      "       A      B     C\n",
      "0  91.0  69.00  27.0\n",
      "1  64.0  66.25  16.0\n",
      "2  76.5  90.00   7.0\n",
      "3  87.0  39.00  33.5\n",
      "4  64.0  67.00  84.0\n"
     ]
    }
   ],
   "source": [
    "#Create a Pandas DataFrame with 3 columns and 5 rows filled with random integers. Introduce some NaN values. Fill the NaN values with the mean of the respective columns.\n",
    "\n",
    "df = pd.DataFrame(np.random.randint(1, 100, size=(5, 3)), columns=['A', 'B', 'C'])\n",
    "df.iloc[1, 1] = np.nan  # Introduce NaN value\n",
    "df.iloc[2, 0] = np.nan  # Introduce NaN value\n",
    "df.iloc[3, 2] = np.nan  # Introduce NaN value\n",
    "print(\"Original DataFrame with NaN values:\\n\", df)\n",
    "\n",
    "df.fillna(df.mean(), inplace=True)  # Fill NaN values with column mean\n",
    "print(\"DataFrame after filling NaN values with column mean:\\n\", df)"
   ]
  },
  {
   "cell_type": "code",
   "execution_count": 7,
   "id": "3fd177eb",
   "metadata": {},
   "outputs": [
    {
     "name": "stdout",
     "output_type": "stream",
     "text": [
      "Original DataFrame with NaN values:\n",
      "       A     B     C   D\n",
      "0  22.0  73.0  64.0  43\n",
      "1  88.0   NaN  85.0  72\n",
      "2  45.0  34.0  67.0  78\n",
      "3   9.0  77.0   NaN  18\n",
      "4   NaN  54.0  30.0  54\n",
      "5  53.0  34.0  54.0  26\n",
      "DataFrame after dropping rows with NaN values:\n",
      "       A     B     C   D\n",
      "0  22.0  73.0  64.0  43\n",
      "2  45.0  34.0  67.0  78\n",
      "5  53.0  34.0  54.0  26\n"
     ]
    }
   ],
   "source": [
    "#Create a Pandas DataFrame with 4 columns and 6 rows filled with random integers. Introduce some NaN values. Drop the rows with any NaN values.\n",
    "\n",
    "df = pd.DataFrame(np.random.randint(1, 100, size=(6, 4)), columns=['A', 'B', 'C', 'D'])\n",
    "df.iloc[1, 1] = np.nan  # Introduce NaN value\n",
    "df.iloc[3, 2] = np.nan  # Introduce NaN value\n",
    "df.iloc[4, 0] = np.nan  # Introduce NaN value\n",
    "print(\"Original DataFrame with NaN values:\\n\", df)\n",
    "\n",
    "df.dropna(inplace=True)  # Drop rows with any NaN values\n",
    "print(\"DataFrame after dropping rows with NaN values:\\n\", df)"
   ]
  },
  {
   "cell_type": "markdown",
   "id": "ad597633",
   "metadata": {},
   "source": [
    "### Assignment 4: Data Aggregation\n",
    "\n",
    "1. Create a Pandas DataFrame with 2 columns: 'Category' and 'Value'. Fill the 'Category' column with random categories ('A', 'B', 'C') and the 'Value' column with random integers. Group the DataFrame by 'Category' and compute the sum and mean of 'Value' for each category.\n",
    "2. Create a Pandas DataFrame with 3 columns: 'Product', 'Category', and 'Sales'. Fill the DataFrame with random data. Group the DataFrame by 'Category' and compute the total sales for each category."
   ]
  },
  {
   "cell_type": "code",
   "execution_count": 8,
   "id": "5e3600de",
   "metadata": {},
   "outputs": [
    {
     "name": "stdout",
     "output_type": "stream",
     "text": [
      "Original DataFrame:\n",
      "   Category  Value\n",
      "0        B     20\n",
      "1        A     29\n",
      "2        B     74\n",
      "3        B     57\n",
      "4        B     52\n",
      "5        A     13\n",
      "6        A     44\n",
      "7        B     18\n",
      "8        B     70\n",
      "9        B     47\n"
     ]
    }
   ],
   "source": [
    "#Create a Pandas DataFrame with 2 columns: 'Category' and 'Value'. Fill the 'Category' column with random categories ('A', 'B', 'C') and the 'Value' column with random integers. Group the DataFrame by 'Category' and compute the sum and mean of 'Value' for each category.\n",
    "\n",
    "df = pd.DataFrame({\n",
    "    'Category': np.random.choice(['A', 'B', 'C'], size=10),\n",
    "    'Value': np.random.randint(1, 100, size=10)\n",
    "})\n",
    "print(\"Original DataFrame:\\n\", df)\n",
    "\n"
   ]
  },
  {
   "cell_type": "code",
   "execution_count": 16,
   "id": "2be2fa79",
   "metadata": {},
   "outputs": [
    {
     "name": "stdout",
     "output_type": "stream",
     "text": [
      "Original DataFrame:\n",
      "  Product Category  Sales\n",
      "0   Prod2        A     12\n",
      "1   Prod2        A     84\n",
      "2   Prod1        B     54\n",
      "3   Prod3        C     76\n",
      "4   Prod2        C     89\n",
      "5   Prod2        B     83\n",
      "6   Prod1        A     59\n",
      "7   Prod3        A     88\n",
      "8   Prod2        A     52\n",
      "9   Prod1        C      9\n",
      "Grouped DataFrame:\n",
      "Category\n",
      "A    295\n",
      "B    137\n",
      "C    174\n",
      "Name: Sales, dtype: int32\n"
     ]
    }
   ],
   "source": [
    "#Create a Pandas DataFrame with 3 columns: 'Product', 'Category', and 'Sales'. Fill the DataFrame with random data. Group the DataFrame by 'Category' and compute the total sales for each category.\n",
    "\n",
    "df = pd.DataFrame({'Product': np.random.choice(['Prod1', 'Prod2', 'Prod3'], size=10), 'Category': np.random.choice(['A', 'B', 'C'], size=10), 'Sales': np.random.randint(1, 100, size=10)})\n",
    "print(\"Original DataFrame:\")\n",
    "print(df)\n",
    "\n",
    "# Group the DataFrame by 'Category' and compute the total sales for each category\n",
    "grouped = df.groupby('Category')['Sales'].sum()\n",
    "print(\"Grouped DataFrame:\")\n",
    "print(grouped)"
   ]
  },
  {
   "cell_type": "markdown",
   "id": "a3a42f2f",
   "metadata": {},
   "source": [
    "### Assignment 5: Merging DataFrames\n",
    "\n",
    "1. Create two Pandas DataFrames with a common column. Merge the DataFrames using the common column.\n",
    "2. Create two Pandas DataFrames with different columns. Concatenate the DataFrames along the rows and along the columns."
   ]
  },
  {
   "cell_type": "code",
   "execution_count": 17,
   "id": "49fdae51",
   "metadata": {},
   "outputs": [
    {
     "name": "stdout",
     "output_type": "stream",
     "text": [
      "DataFrame 1:\n",
      "    ID     Name\n",
      "0   1    Alice\n",
      "1   2      Bob\n",
      "2   3  Charlie\n",
      "DataFrame 2:\n",
      "    ID  Age\n",
      "0   2   24\n",
      "1   3   30\n",
      "2   4   22\n",
      "Merged DataFrame:\n",
      "    ID     Name  Age\n",
      "0   2      Bob   24\n",
      "1   3  Charlie   30\n"
     ]
    }
   ],
   "source": [
    "#Create two Pandas DataFrames with a common column. Merge the DataFrames using the common column.\n",
    "df1 = pd.DataFrame({'ID': [1, 2, 3], 'Name': ['Alice', 'Bob', 'Charlie']})\n",
    "df2 = pd.DataFrame({'ID': [2, 3, 4], 'Age': [24, 30, 22]})  \n",
    "print(\"DataFrame 1:\\n\", df1)\n",
    "print(\"DataFrame 2:\\n\", df2)\n",
    "merged_df = pd.merge(df1,df2, on='ID', how='inner')\n",
    "print(\"Merged DataFrame:\\n\", merged_df)"
   ]
  },
  {
   "cell_type": "code",
   "execution_count": 20,
   "id": "edf8201a",
   "metadata": {},
   "outputs": [
    {
     "name": "stdout",
     "output_type": "stream",
     "text": [
      "DataFrame 1:\n",
      "    A  B\n",
      "0  1  3\n",
      "1  2  4\n",
      "DataFrame 2:\n",
      "    C  D\n",
      "0  5  7\n",
      "1  6  8\n",
      "Concatenated DataFrame along rows:\n",
      "      A    B    C    D\n",
      "0  1.0  3.0  NaN  NaN\n",
      "1  2.0  4.0  NaN  NaN\n",
      "0  NaN  NaN  5.0  7.0\n",
      "1  NaN  NaN  6.0  8.0\n",
      "Concatenated DataFrame along columns:\n",
      "    A  B  C  D\n",
      "0  1  3  5  7\n",
      "1  2  4  6  8\n"
     ]
    }
   ],
   "source": [
    "#Create two Pandas DataFrames with different columns. Concatenate the DataFrames along the rows and along the columns.\n",
    "df1 = pd.DataFrame({'A': [1, 2], 'B': [3, 4]})\n",
    "df2 = pd.DataFrame({'C': [5, 6], 'D': [7, 8]})\n",
    "print(\"DataFrame 1:\\n\", df1)\n",
    "print(\"DataFrame 2:\\n\", df2)\n",
    "concat_rows = pd.concat([df1, df2], axis=0)  # Concatenate along rows\n",
    "concat_cols = pd.concat([df1, df2], axis=1)  # Concatenate along columns\n",
    "print(\"Concatenated DataFrame along rows:\\n\", concat_rows)\n",
    "print(\"Concatenated DataFrame along columns:\\n\", concat_cols)"
   ]
  },
  {
   "cell_type": "markdown",
   "id": "ed685479",
   "metadata": {},
   "source": [
    "### Assignment 6: Time Series Analysis\n",
    "\n",
    "1. Create a Pandas DataFrame with a datetime index and one column filled with random integers. Resample the DataFrame to compute the monthly mean of the values.\n",
    "2. Create a Pandas DataFrame with a datetime index ranging from '2021-01-01' to '2021-12-31' and one column filled with random integers. Compute the rolling mean with a window of 7 days."
   ]
  },
  {
   "cell_type": "code",
   "execution_count": 23,
   "id": "e1ddcd17",
   "metadata": {},
   "outputs": [
    {
     "name": "stdout",
     "output_type": "stream",
     "text": [
      "Original DataFrame:\n",
      "            data\n",
      "date            \n",
      "2022-01-01    79\n",
      "2022-01-02    26\n",
      "2022-01-03    45\n",
      "2022-01-04    89\n",
      "2022-01-05    99\n",
      "...          ...\n",
      "2022-12-27    84\n",
      "2022-12-28    87\n",
      "2022-12-29    54\n",
      "2022-12-30    81\n",
      "2022-12-31    38\n",
      "\n",
      "[365 rows x 1 columns]\n",
      "Monthly mean DataFrame:\n",
      "                 data\n",
      "date                 \n",
      "2022-01-31  43.903226\n",
      "2022-02-28  52.607143\n",
      "2022-03-31  35.774194\n",
      "2022-04-30  45.433333\n",
      "2022-05-31  48.741935\n",
      "2022-06-30  41.633333\n",
      "2022-07-31  45.000000\n",
      "2022-08-31  40.032258\n",
      "2022-09-30  57.233333\n",
      "2022-10-31  42.161290\n",
      "2022-11-30  54.600000\n",
      "2022-12-31  44.774194\n"
     ]
    }
   ],
   "source": [
    "# Create a Pandas DataFrame with a datetime index and one column filled with random integers\n",
    "date_rng = pd.date_range(start='2022-01-01', end='2022-12-31', freq='D')\n",
    "df = pd.DataFrame(date_rng, columns=['date'])\n",
    "df['data'] = np.random.randint(0, 100, size=(len(date_rng)))\n",
    "df.set_index('date', inplace=True)\n",
    "print(\"Original DataFrame:\")\n",
    "print(df)\n",
    "\n",
    "# Resample the DataFrame to compute the monthly mean of the values\n",
    "monthly_mean = df.resample('ME').mean()\n",
    "print(\"Monthly mean DataFrame:\")\n",
    "print(monthly_mean)"
   ]
  },
  {
   "cell_type": "code",
   "execution_count": 24,
   "id": "032380e2",
   "metadata": {},
   "outputs": [
    {
     "name": "stdout",
     "output_type": "stream",
     "text": [
      "Original DataFrame:\n",
      "             Value\n",
      "2021-01-01     70\n",
      "2021-01-02     89\n",
      "2021-01-03     76\n",
      "2021-01-04     21\n",
      "2021-01-05      7\n",
      "...           ...\n",
      "2021-12-27     91\n",
      "2021-12-28     87\n",
      "2021-12-29     48\n",
      "2021-12-30     46\n",
      "2021-12-31     30\n",
      "\n",
      "[365 rows x 1 columns]\n",
      "Rolling mean with a window of 7 days:\n",
      "                 Value\n",
      "2021-01-01        NaN\n",
      "2021-01-02        NaN\n",
      "2021-01-03        NaN\n",
      "2021-01-04        NaN\n",
      "2021-01-05        NaN\n",
      "...               ...\n",
      "2021-12-27  44.000000\n",
      "2021-12-28  47.571429\n",
      "2021-12-29  47.142857\n",
      "2021-12-30  45.428571\n",
      "2021-12-31  46.000000\n",
      "\n",
      "[365 rows x 1 columns]\n"
     ]
    }
   ],
   "source": [
    "#Create a Pandas DataFrame with a datetime index ranging from '2021-01-01' to '2021-12-31' and one column filled with random integers. Compute the rolling mean with a window of 7 days.\n",
    "\n",
    "df = pd.DataFrame(np.random.randint(1, 100, size=(365, 1)), columns=['Value'], index=pd.date_range(start='2021-01-01', end='2021-12-31'))\n",
    "print(\"Original DataFrame:\\n\",df)\n",
    "\n",
    "rolling_mean = df.rolling(window=7).mean()\n",
    "print(\"Rolling mean with a window of 7 days:\\n\", rolling_mean)"
   ]
  },
  {
   "cell_type": "markdown",
   "id": "61c223db",
   "metadata": {},
   "source": [
    "### Assignment 7: MultiIndex DataFrame\n",
    "\n",
    "1. Create a Pandas DataFrame with a MultiIndex (hierarchical index). Perform some basic indexing and slicing operations on the MultiIndex DataFrame.\n",
    "2. Create a Pandas DataFrame with MultiIndex consisting of 'Category' and 'SubCategory'. Fill the DataFrame with random data and compute the sum of values for each 'Category' and 'SubCategory'."
   ]
  },
  {
   "cell_type": "code",
   "execution_count": 28,
   "id": "56fc9bb1",
   "metadata": {},
   "outputs": [
    {
     "name": "stdout",
     "output_type": "stream",
     "text": [
      "MultiIndex DataFrame:\n",
      "                      Value1  Value2  Value3\n",
      "Category SubCategory                        \n",
      "A        one              17      81      98\n",
      "         two              62      16      53\n",
      "B        one              72      93      66\n",
      "         two              56      73      60\n",
      "Indexing at Category 'A':\n",
      "             Value1  Value2  Value3\n",
      "SubCategory                        \n",
      "one              17      81      98\n",
      "two              62      16      53\n",
      "Slicing at Category 'B' and SubCategory 'two':\n",
      "Value1    56\n",
      "Value2    73\n",
      "Value3    60\n",
      "Name: (B, two), dtype: int32\n"
     ]
    }
   ],
   "source": [
    "arrays = [['A', 'A', 'B', 'B'], ['one', 'two', 'one', 'two']]\n",
    "index = pd.MultiIndex.from_arrays(arrays, names=('Category', 'SubCategory'))\n",
    "df = pd.DataFrame(np.random.randint(1, 100, size=(4, 3)), index=index, columns=['Value1', 'Value2', 'Value3'])\n",
    "print(\"MultiIndex DataFrame:\")\n",
    "print(df)\n",
    "\n",
    "# Basic indexing and slicing operations\n",
    "print(\"Indexing at Category 'A':\")\n",
    "print(df.loc['A'])\n",
    "\n",
    "print(\"Slicing at Category 'B' and SubCategory 'two':\")\n",
    "print(df.loc[('B', 'two')])"
   ]
  },
  {
   "cell_type": "code",
   "execution_count": 33,
   "id": "4c732634",
   "metadata": {},
   "outputs": [
    {
     "name": "stdout",
     "output_type": "stream",
     "text": [
      "MultiIndex DataFrame:\n",
      "                       Value1  Value2  Value3\n",
      "Category SubCategory                        \n",
      "A        one              34      21      59\n",
      "         two              92      53      79\n",
      "B        one              24      52      65\n",
      "         two              88      13      47\n",
      "Sum of values for each 'Category':\n",
      "           Value1  Value2  Value3\n",
      "Category                        \n",
      "A            126      74     138\n",
      "B            112      65     112\n",
      "Sum of values for each 'SubCategory':\n",
      "              Value1  Value2  Value3\n",
      "SubCategory                        \n",
      "one              58      73     124\n",
      "two             180      66     126\n"
     ]
    }
   ],
   "source": [
    "#Create a Pandas DataFrame with MultiIndex consisting of 'Category' and 'SubCategory'. Fill the DataFrame with random data and compute the sum of values for each 'Category' and 'SubCategory'.\n",
    "arrays = [['A', 'A', 'B', 'B'], ['one', 'two', 'one', 'two']]\n",
    "index = pd.MultiIndex.from_arrays(arrays, names=('Category', 'SubCategory'))\n",
    "df = pd.DataFrame(np.random.randint(1, 100, size=(4, 3)), index=index, columns=['Value1', 'Value2', 'Value3'])  \n",
    "print(\"MultiIndex DataFrame:\\n\", df)\n",
    "sum_values = df.groupby(level=0).sum()  # Sum of values for each 'Category'\n",
    "print(\"Sum of values for each 'Category':\\n\", sum_values)\n",
    "sum_values_sub = df.groupby(level=1).sum()  # Sum of values for each 'SubCategory'\n",
    "print(\"Sum of values for each 'SubCategory':\\n\", sum_values_sub)"
   ]
  },
  {
   "cell_type": "markdown",
   "id": "16135ce2",
   "metadata": {},
   "source": [
    "### Assignment 8: Pivot Tables\n",
    "\n",
    "1. Create a Pandas DataFrame with columns 'Date', 'Category', and 'Value'. Create a pivot table to compute the sum of 'Value' for each 'Category' by 'Date'.\n",
    "2. Create a Pandas DataFrame with columns 'Year', 'Quarter', and 'Revenue'. Create a pivot table to compute the mean 'Revenue' for each 'Quarter' by 'Year'."
   ]
  },
  {
   "cell_type": "code",
   "execution_count": 41,
   "id": "1cf76b9f",
   "metadata": {},
   "outputs": [
    {
     "name": "stdout",
     "output_type": "stream",
     "text": [
      "Original DataFrame:\n",
      "         Date Category  Value\n",
      "0  2022-01-08        A     89\n",
      "1  2022-01-08        A     35\n",
      "2  2022-01-03        C     73\n",
      "3  2022-01-03        C     69\n",
      "4  2022-01-04        C     83\n",
      "5  2022-01-02        C     87\n",
      "6  2022-01-10        A     99\n",
      "7  2022-01-02        C     62\n",
      "8  2022-01-04        B     79\n",
      "9  2022-01-08        A     71\n",
      "10 2022-01-05        C     23\n",
      "11 2022-01-10        B      9\n",
      "12 2022-01-09        B     33\n",
      "13 2022-01-02        A     91\n",
      "14 2022-01-05        A     16\n",
      "15 2022-01-01        C     13\n",
      "16 2022-01-04        A     96\n",
      "17 2022-01-01        B     53\n",
      "18 2022-01-05        B     32\n",
      "19 2022-01-04        B     73\n",
      "Pivot Table:\n",
      "Category        A      B      C\n",
      "Date                           \n",
      "2022-01-01    NaN   53.0   13.0\n",
      "2022-01-02   91.0    NaN  149.0\n",
      "2022-01-03    NaN    NaN  142.0\n",
      "2022-01-04   96.0  152.0   83.0\n",
      "2022-01-05   16.0   32.0   23.0\n",
      "2022-01-08  195.0    NaN    NaN\n",
      "2022-01-09    NaN   33.0    NaN\n",
      "2022-01-10   99.0    9.0    NaN\n"
     ]
    }
   ],
   "source": [
    "# Create a Pandas DataFrame with columns 'Date', 'Category', and 'Value'\n",
    "date_rng = pd.date_range(start='2022-01-01', end='2022-01-10', freq='D')\n",
    "df = pd.DataFrame({'Date': np.random.choice(date_rng, size=20), 'Category': np.random.choice(['A', 'B', 'C'], size=20), 'Value': np.random.randint(1, 100, size=20)})\n",
    "print(\"Original DataFrame:\")\n",
    "print(df)\n",
    "\n",
    "# Create a pivot table to compute the sum of 'Value' for each 'Category' by 'Date'\n",
    "pivot_table = df.pivot_table(values='Value', index='Date', columns='Category', aggfunc='sum')\n",
    "print(\"Pivot Table:\")\n",
    "print(pivot_table)"
   ]
  },
  {
   "cell_type": "code",
   "execution_count": 43,
   "id": "cf13ea1b",
   "metadata": {},
   "outputs": [
    {
     "name": "stdout",
     "output_type": "stream",
     "text": [
      "Original DataFrame:\n",
      "    Year Quarter  Revenue\n",
      "0  2020      Q1      100\n",
      "1  2020      Q2      200\n",
      "2  2021      Q1      150\n",
      "3  2021      Q2      250\n",
      "Pivot Table:\n",
      " Quarter     Q1     Q2\n",
      "Year                 \n",
      "2020     100.0  200.0\n",
      "2021     150.0  250.0\n"
     ]
    }
   ],
   "source": [
    "#2. Create a Pandas DataFrame with columns 'Year', 'Quarter', and 'Revenue'. Create a pivot table to compute the mean 'Revenue' for each 'Quarter' by 'Year'.\n",
    "\n",
    "df = pd.DataFrame({\n",
    "    'Year': [2020, 2020, 2021, 2021],\n",
    "    'Quarter': ['Q1', 'Q2', 'Q1', 'Q2'],\n",
    "    'Revenue': [100, 200, 150, 250]\n",
    "})\n",
    "print(\"Original DataFrame:\\n\", df)\n",
    "pivot_table = df.pivot_table(values='Revenue', index='Year', columns='Quarter', aggfunc='mean')\n",
    "print(\"Pivot Table:\\n\", pivot_table)"
   ]
  },
  {
   "cell_type": "markdown",
   "id": "952bd09f",
   "metadata": {},
   "source": [
    "### Assignment 9: Applying Functions\n",
    "\n",
    "1. Create a Pandas DataFrame with 3 columns and 5 rows filled with random integers. Apply a function that doubles the values of the DataFrame.\n",
    "2. Create a Pandas DataFrame with 3 columns and 6 rows filled with random integers. Apply a lambda function to create a new column that is the sum of the existing columns."
   ]
  },
  {
   "cell_type": "code",
   "execution_count": null,
   "id": "410c99ce",
   "metadata": {},
   "outputs": [
    {
     "name": "stdout",
     "output_type": "stream",
     "text": [
      "Original DataFrame:\n",
      "     A   B   C\n",
      "0  96  78  70\n",
      "1  55  37  41\n",
      "2  30  96  86\n",
      "3  46  71   6\n",
      "4  77   8  48\n",
      "DataFrame after applying function:\n",
      "      A    B    C\n",
      "0  192  156  140\n",
      "1  110   74   82\n",
      "2   60  192  172\n",
      "3   92  142   12\n",
      "4  154   16   96\n"
     ]
    }
   ],
   "source": [
    "#1. Create a Pandas DataFrame with 3 columns and 5 rows filled with random integers. Apply a function that doubles the values of the DataFrame.\n",
    "\n",
    "df =pd.DataFrame((np.random.randint(1,100, size=(5,3))) ,columns=['A','B','C'])\n",
    "print(\"Original DataFrame:\\n\", df)\n",
    "\n",
    "df_doubled = df.map(lambda x: x * 2)  # Double each element in the DataFrame\n",
    "print(\"DataFrame after applying function:\\n\", df_doubled)"
   ]
  },
  {
   "cell_type": "code",
   "execution_count": 55,
   "id": "6dec6d88",
   "metadata": {},
   "outputs": [
    {
     "name": "stdout",
     "output_type": "stream",
     "text": [
      "Original DataFrame:\n",
      "     A   B   C\n",
      "0  61  11  14\n",
      "1  40  10  88\n",
      "2  97   2  60\n",
      "3  39   6  36\n",
      "4  87  37  65\n",
      "5  79  53  38\n",
      "DataFrame after applying lambda function:\n",
      "     A   B   C  Sum\n",
      "0  61  11  14   86\n",
      "1  40  10  88  138\n",
      "2  97   2  60  159\n",
      "3  39   6  36   81\n",
      "4  87  37  65  189\n",
      "5  79  53  38  170\n"
     ]
    }
   ],
   "source": [
    "#2. Create a Pandas DataFrame with 3 columns and 6 rows filled with random integers. Apply a lambda function to create a new column that is the sum of the existing columns.\n",
    "\n",
    "df = pd.DataFrame(np.random.randint(1, 100, size=(6, 3)), columns=['A', 'B', 'C'])\n",
    "print(\"Original DataFrame:\\n\", df)\n",
    "\n",
    "sum_col = df.apply(lambda x: x.sum(), axis=1)  # Sum of each column\n",
    "df['Sum'] = sum_col  # Add new column with the sum of existing columns\n",
    "print(\"DataFrame after applying lambda function:\\n\", df)"
   ]
  },
  {
   "cell_type": "markdown",
   "id": "044f6d13",
   "metadata": {},
   "source": [
    "### Assignment 10: Working with Text Data\n",
    "\n",
    "1. Create a Pandas Series with 5 random text strings. Convert all the strings to uppercase.\n",
    "2. Create a Pandas Series with 5 random text strings. Extract the first three characters of each string."
   ]
  },
  {
   "cell_type": "code",
   "execution_count": 56,
   "id": "ff9e8ed5",
   "metadata": {},
   "outputs": [
    {
     "name": "stdout",
     "output_type": "stream",
     "text": [
      "Original Series:\n",
      " 0         apple\n",
      "1        banana\n",
      "2        cherry\n",
      "3          date\n",
      "4    elderberry\n",
      "dtype: object\n",
      "Series after converting to uppercase:\n",
      " 0         APPLE\n",
      "1        BANANA\n",
      "2        CHERRY\n",
      "3          DATE\n",
      "4    ELDERBERRY\n",
      "dtype: object\n"
     ]
    }
   ],
   "source": [
    "#1. Create a Pandas Series with 5 random text strings. Convert all the strings to uppercase.\n",
    "df = pd.Series(['apple', 'banana', 'cherry', 'date', 'elderberry'])\n",
    "print(\"Original Series:\\n\", df)\n",
    "df_upper = df.str.upper()  # Convert all strings to uppercase\n",
    "print(\"Series after converting to uppercase:\\n\", df_upper)"
   ]
  },
  {
   "cell_type": "code",
   "execution_count": 57,
   "id": "52d22d8a",
   "metadata": {},
   "outputs": [
    {
     "name": "stdout",
     "output_type": "stream",
     "text": [
      "Original Series:\n",
      " 0         apple\n",
      "1        banana\n",
      "2        cherry\n",
      "3          date\n",
      "4    elderberry\n",
      "dtype: object\n",
      "Series after extracting first three characters:\n",
      " 0    app\n",
      "1    ban\n",
      "2    che\n",
      "3    dat\n",
      "4    eld\n",
      "dtype: object\n"
     ]
    }
   ],
   "source": [
    "#2. Create a Pandas Series with 5 random text strings. Extract the first three characters of each string.\n",
    "df = pd.Series(['apple', 'banana', 'cherry', 'date', 'elderberry'])\n",
    "print(\"Original Series:\\n\", df)\n",
    "df_first_three = df.str[:3]  # Extract the first three characters of each string\n",
    "print(\"Series after extracting first three characters:\\n\", df_first_three)"
   ]
  }
 ],
 "metadata": {
  "kernelspec": {
   "display_name": "venv",
   "language": "python",
   "name": "python3"
  },
  "language_info": {
   "codemirror_mode": {
    "name": "ipython",
    "version": 3
   },
   "file_extension": ".py",
   "mimetype": "text/x-python",
   "name": "python",
   "nbconvert_exporter": "python",
   "pygments_lexer": "ipython3",
   "version": "3.12.9"
  }
 },
 "nbformat": 4,
 "nbformat_minor": 5
}
