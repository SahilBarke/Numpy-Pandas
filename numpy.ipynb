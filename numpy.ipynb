{
 "cells": [
  {
   "cell_type": "markdown",
   "id": "4ee7d16b",
   "metadata": {},
   "source": [
    "# Module: NumPy Assignments"
   ]
  },
  {
   "cell_type": "markdown",
   "id": "6b9f2358",
   "metadata": {},
   "source": [
    "## Lesson: NumPy"
   ]
  },
  {
   "cell_type": "code",
   "execution_count": 2,
   "id": "4c993d28",
   "metadata": {},
   "outputs": [],
   "source": [
    "import numpy as np "
   ]
  },
  {
   "cell_type": "markdown",
   "id": "f829553f",
   "metadata": {},
   "source": [
    "### Assignment 1: Array Creation and Manipulation\n",
    "\n",
    "1. Create a NumPy array of shape (5, 5) filled with random integers between 1 and 20. Replace all the elements in the third column with 1.\n",
    "2. Create a NumPy array of shape (4, 4) with values from 1 to 16. Replace the diagonal elements with 0."
   ]
  },
  {
   "cell_type": "code",
   "execution_count": 3,
   "id": "d3529a8a",
   "metadata": {},
   "outputs": [
    {
     "data": {
      "text/plain": [
       "array([[ 2,  2,  1,  1, 10],\n",
       "       [16,  4,  1, 15,  3],\n",
       "       [17, 18,  1,  5,  7],\n",
       "       [ 2, 19,  1,  1,  9],\n",
       "       [ 9,  7,  1,  4, 17]], dtype=int32)"
      ]
     },
     "execution_count": 3,
     "metadata": {},
     "output_type": "execute_result"
    }
   ],
   "source": [
    "arry = np.random.randint(1,21,size=(5,5))\n",
    "arry[:,2] = 1\n",
    "arry"
   ]
  },
  {
   "cell_type": "code",
   "execution_count": 4,
   "id": "56758fc5",
   "metadata": {},
   "outputs": [
    {
     "data": {
      "text/plain": [
       "array([[ 0,  6, 13, 15],\n",
       "       [12,  0, 16,  8],\n",
       "       [ 2, 11,  0,  9],\n",
       "       [13,  4,  7,  0]], dtype=int32)"
      ]
     },
     "execution_count": 4,
     "metadata": {},
     "output_type": "execute_result"
    }
   ],
   "source": [
    "arry = np.random.randint(1,17,size=(4,4))\n",
    "np.fill_diagonal(arry, 0)\n",
    "arry"
   ]
  },
  {
   "cell_type": "markdown",
   "id": "df1839a1",
   "metadata": {},
   "source": [
    "### Assignment 2: Array Indexing and Slicing\n",
    "\n",
    "1. Create a NumPy array of shape (6, 6) with values from 1 to 36. Extract the sub-array consisting of the 3rd to 5th rows and 2nd to 4th columns.\n",
    "2. Create a NumPy array of shape (5, 5) with random integers. Extract the elements on the border."
   ]
  },
  {
   "cell_type": "code",
   "execution_count": 5,
   "id": "6568fe42",
   "metadata": {},
   "outputs": [
    {
     "data": {
      "text/plain": [
       "array([[ 7, 17, 29, 28,  8, 24],\n",
       "       [20, 12, 34, 27, 33, 11],\n",
       "       [ 9, 10, 28, 18, 21, 35],\n",
       "       [ 3, 25, 23, 35,  8,  6],\n",
       "       [11,  3,  8, 34, 31,  7],\n",
       "       [32, 18, 12, 12, 24, 29]], dtype=int32)"
      ]
     },
     "execution_count": 5,
     "metadata": {},
     "output_type": "execute_result"
    }
   ],
   "source": [
    "arry2 = np.random.randint(1,37,size=(6,6))\n",
    "arry2[:]"
   ]
  },
  {
   "cell_type": "code",
   "execution_count": 6,
   "id": "379c0371",
   "metadata": {},
   "outputs": [
    {
     "data": {
      "text/plain": [
       "array([[10, 28, 18],\n",
       "       [25, 23, 35],\n",
       "       [ 3,  8, 34]], dtype=int32)"
      ]
     },
     "execution_count": 6,
     "metadata": {},
     "output_type": "execute_result"
    }
   ],
   "source": [
    "arry2[2:5,1:4]"
   ]
  },
  {
   "cell_type": "code",
   "execution_count": 7,
   "id": "6589ab7c",
   "metadata": {},
   "outputs": [
    {
     "name": "stdout",
     "output_type": "stream",
     "text": [
      "[[ 22  26  73  32  86]\n",
      " [  3   3  10  63  40]\n",
      " [ 77  67   0  69  58]\n",
      " [ 96  98  36  63 100]\n",
      " [ 60   7  53  11  43]]\n"
     ]
    }
   ],
   "source": [
    "# Create a 5x5 array with random integers between 0 and 100\n",
    "arr3 = np.random.randint(0, 101, size=(5, 5))\n",
    "\n",
    "print(arr3)\n"
   ]
  },
  {
   "cell_type": "code",
   "execution_count": 8,
   "id": "cba1318d",
   "metadata": {},
   "outputs": [
    {
     "name": "stdout",
     "output_type": "stream",
     "text": [
      "Border elements: [ 22  26  73  32  86  60   7  53  11  43  22   3  77  96  60  86  40  58\n",
      " 100  43]\n"
     ]
    }
   ],
   "source": [
    "#extracting the elements on the border of the array\n",
    "border_elements = np.concatenate((arr3[0, :], arr3[-1, :], arr3[:, 0], arr3[:, -1]))\n",
    "print(\"Border elements:\", border_elements)"
   ]
  },
  {
   "cell_type": "markdown",
   "id": "6d8afa9c",
   "metadata": {},
   "source": [
    "### Assignment 3: Array Operations\n",
    "\n",
    "1. Create two NumPy arrays of shape (3, 4) filled with random integers. Perform element-wise addition, subtraction, multiplication, and division.\n",
    "2. Create a NumPy array of shape (4, 4) with values from 1 to 16. Compute the row-wise and column-wise sum."
   ]
  },
  {
   "cell_type": "code",
   "execution_count": 9,
   "id": "fdc3151a",
   "metadata": {},
   "outputs": [
    {
     "name": "stdout",
     "output_type": "stream",
     "text": [
      "Array 1:\n",
      " [[15  8 15 10]\n",
      " [12  2 14  8]\n",
      " [ 4  4  6 13]]\n",
      "Array 2:\n",
      " [[ 4  3  5  9]\n",
      " [13 11  8 12]\n",
      " [ 4  5 11  9]]\n"
     ]
    }
   ],
   "source": [
    "arr1 = np.random.randint(1, 16, size=(3, 4))\n",
    "arr2 = np.random.randint(1, 16, size=(3, 4))\n",
    "print(f\"Array 1:\\n {arr1}\")\n",
    "print(f\"Array 2:\\n {arr2}\")"
   ]
  },
  {
   "cell_type": "code",
   "execution_count": 10,
   "id": "94e28d55",
   "metadata": {},
   "outputs": [
    {
     "name": "stdout",
     "output_type": "stream",
     "text": [
      "Addition:\n",
      " [[19 11 20 19]\n",
      " [25 13 22 20]\n",
      " [ 8  9 17 22]]\n",
      "Subtraction:\n",
      " [[11  5 10  1]\n",
      " [-1 -9  6 -4]\n",
      " [ 0 -1 -5  4]]\n",
      "Multiplication:\n",
      " [[ 60  24  75  90]\n",
      " [156  22 112  96]\n",
      " [ 16  20  66 117]]\n",
      "Division:\n",
      " [[3.75       2.66666667 3.         1.11111111]\n",
      " [0.92307692 0.18181818 1.75       0.66666667]\n",
      " [1.         0.8        0.54545455 1.44444444]]\n"
     ]
    }
   ],
   "source": [
    "addition = arr1 + arr2\n",
    "print(f\"Addition:\\n {addition}\")\n",
    "\n",
    "subtraction = arr1 - arr2\n",
    "print(f\"Subtraction:\\n {subtraction}\")\n",
    "\n",
    "multiplication = arr1 * arr2\n",
    "print(f\"Multiplication:\\n {multiplication}\")\n",
    "\n",
    "division = arr1 / arr2\n",
    "print(f\"Division:\\n {division}\")\n",
    "\n"
   ]
  },
  {
   "cell_type": "code",
   "execution_count": 11,
   "id": "01621937",
   "metadata": {},
   "outputs": [
    {
     "data": {
      "text/plain": [
       "array([[15,  8,  4,  5],\n",
       "       [13, 13,  3,  5],\n",
       "       [10, 12,  1,  4],\n",
       "       [ 2,  6,  4,  8]], dtype=int32)"
      ]
     },
     "execution_count": 11,
     "metadata": {},
     "output_type": "execute_result"
    }
   ],
   "source": [
    "# row wise and column wise sum\n",
    "arry = np.random.randint(1, 17, size=(4, 4))\n",
    "arry"
   ]
  },
  {
   "cell_type": "code",
   "execution_count": 12,
   "id": "2e651aba",
   "metadata": {},
   "outputs": [
    {
     "name": "stdout",
     "output_type": "stream",
     "text": [
      "Column wise sum: [40 39 12 22]\n",
      "Row wise sum:[32 34 27 20]\n"
     ]
    }
   ],
   "source": [
    "print(f\"Column wise sum: {arry.sum(axis=0)}\") # column wise sum\n",
    "print(f\"Row wise sum:{arry.sum(axis=1)}\") # row wise sum"
   ]
  },
  {
   "cell_type": "markdown",
   "id": "cc74fdbd",
   "metadata": {},
   "source": [
    "### Assignment 4: Statistical Operations\n",
    "\n",
    "1. Create a NumPy array of shape (5, 5) filled with random integers. Compute the mean, median, standard deviation, and variance of the array.\n",
    "2. Create a NumPy array of shape (3, 3) with values from 1 to 9. Normalize the array (i.e., scale the values to have a mean of 0 and a standard deviation of 1)."
   ]
  },
  {
   "cell_type": "code",
   "execution_count": 13,
   "id": "58bc6668",
   "metadata": {},
   "outputs": [
    {
     "data": {
      "text/plain": [
       "array([[18,  1,  7, 16, 15],\n",
       "       [11,  9,  4, 13,  6],\n",
       "       [17, 20, 19, 15,  5],\n",
       "       [ 6, 17,  3, 14,  7],\n",
       "       [ 5, 20,  1, 15,  7]], dtype=int32)"
      ]
     },
     "execution_count": 13,
     "metadata": {},
     "output_type": "execute_result"
    }
   ],
   "source": [
    "array = np.random.randint(1,21, size=(5, 5))\n",
    "array"
   ]
  },
  {
   "cell_type": "code",
   "execution_count": 14,
   "id": "3b70c9c2",
   "metadata": {},
   "outputs": [
    {
     "name": "stdout",
     "output_type": "stream",
     "text": [
      "Mean: 10.84\n",
      "Median: 11.0\n",
      "Standard Deviation: 6.064189970639112\n",
      "Variance: 36.77439999999999\n"
     ]
    }
   ],
   "source": [
    "mean = array.mean()\n",
    "print(f\"Mean: {mean}\") # mean of all elements\n",
    "median = np.median(array)\n",
    "print(f\"Median: {median}\") # median of all elements\n",
    "std_dev = array.std()\n",
    "print(f\"Standard Deviation: {std_dev}\") # standard deviation of all elements\n",
    "variance = array.var()\n",
    "print(f\"Variance: {variance}\") # variance of all elements"
   ]
  },
  {
   "cell_type": "code",
   "execution_count": 15,
   "id": "702999b9",
   "metadata": {},
   "outputs": [
    {
     "data": {
      "text/plain": [
       "array([[9, 3, 9],\n",
       "       [7, 5, 5],\n",
       "       [7, 6, 9]], dtype=int32)"
      ]
     },
     "execution_count": 15,
     "metadata": {},
     "output_type": "execute_result"
    }
   ],
   "source": [
    "ary = np.random.randint(1,10, size=(3, 3))\n",
    "ary"
   ]
  },
  {
   "cell_type": "code",
   "execution_count": 16,
   "id": "64ec0f6f",
   "metadata": {},
   "outputs": [
    {
     "name": "stdout",
     "output_type": "stream",
     "text": [
      "Mean: 6.666666666666667\n",
      "Standard Deviation: 2.0\n"
     ]
    }
   ],
   "source": [
    "z= ary.mean()\n",
    "x = ary.std()\n",
    "print(f\"Mean: {z}\") # mean of all elements\n",
    "print(f\"Standard Deviation: {x}\") # standard deviation of all elements"
   ]
  },
  {
   "cell_type": "code",
   "execution_count": 17,
   "id": "28e1ce94",
   "metadata": {},
   "outputs": [
    {
     "name": "stdout",
     "output_type": "stream",
     "text": [
      "Standardized array:\n",
      " [[ 1.16666667 -1.83333333  1.16666667]\n",
      " [ 0.16666667 -0.83333333 -0.83333333]\n",
      " [ 0.16666667 -0.33333333  1.16666667]]\n"
     ]
    }
   ],
   "source": [
    "standardized = (ary - ary.mean()) / ary.std()\n",
    "print(f\"Standardized array:\\n {standardized}\") # standardize the array"
   ]
  },
  {
   "cell_type": "markdown",
   "id": "2a98d82a",
   "metadata": {},
   "source": [
    "### Assignment 5: Broadcasting\n",
    "\n",
    "1. Create a NumPy array of shape (3, 3) filled with random integers. Add a 1D array of shape (3,) to each row of the 2D array using broadcasting.\n",
    "2. Create a NumPy array of shape (4, 4) filled with random integers. Subtract a 1D array of shape (4,) from each column of the 2D array using broadcasting."
   ]
  },
  {
   "cell_type": "code",
   "execution_count": 18,
   "id": "fbb3dbcd",
   "metadata": {},
   "outputs": [
    {
     "name": "stdout",
     "output_type": "stream",
     "text": [
      "Original array:\n",
      "[[ 8  4  3]\n",
      " [ 2 10  4]\n",
      " [ 2 10  5]]\n",
      "1D array:\n",
      "[ 9  2 10]\n",
      "Resulting array:\n",
      "[[-1  2 -7]\n",
      " [-7  8 -6]\n",
      " [-7  8 -5]]\n"
     ]
    }
   ],
   "source": [
    "# Create a NumPy array of shape (3, 3) filled with random integers\n",
    "array = np.random.randint(1, 11, size=(3, 3))\n",
    "row_array = np.random.randint(1, 11, size=(3,))\n",
    "print(\"Original array:\")\n",
    "print(array)\n",
    "print(\"1D array:\")\n",
    "print(row_array)\n",
    "\n",
    "# Add the 1D array to each row of the 2D array using broadcasting\n",
    "result = array - row_array\n",
    "print(\"Resulting array:\")\n",
    "print(result)"
   ]
  },
  {
   "cell_type": "code",
   "execution_count": 19,
   "id": "3f6949b4",
   "metadata": {},
   "outputs": [
    {
     "name": "stdout",
     "output_type": "stream",
     "text": [
      "Original array:\n",
      "[[ 5  6  6  3]\n",
      " [ 3  1  2  1]\n",
      " [ 9 10  2  2]\n",
      " [ 6 10  9  4]]\n",
      "1D array:\n",
      "[ 1 10  9  2]\n",
      "Resulting array:\n",
      "[[ 4 -4 -3  1]\n",
      " [ 2 -9 -7 -1]\n",
      " [ 8  0 -7  0]\n",
      " [ 5  0  0  2]]\n"
     ]
    }
   ],
   "source": [
    "# Create a NumPy array of shape (4, 4) filled with random integers\n",
    "array2 = np.random.randint(1, 11, size=(4, 4))\n",
    "col_array = np.random.randint(1, 11, size=(4,))\n",
    "print(\"Original array:\")\n",
    "print(array2)\n",
    "print(\"1D array:\")\n",
    "print(col_array)\n",
    "\n",
    "# Subtract the 1D array to each row of the 2D array using broadcasting\n",
    "result = array2 - col_array\n",
    "print(\"Resulting array:\")\n",
    "print(result)"
   ]
  },
  {
   "cell_type": "markdown",
   "id": "b3e5d5d3",
   "metadata": {},
   "source": [
    "\n",
    "### Assignment 6: Linear Algebra\n",
    "\n",
    "1. Create a NumPy array of shape (3, 3) representing a matrix. Compute its determinant, inverse, and eigenvalues.\n",
    "2. Create two NumPy arrays of shape (2, 3) and (3, 2). Perform matrix multiplication on these arrays."
   ]
  },
  {
   "cell_type": "code",
   "execution_count": 20,
   "id": "68859452",
   "metadata": {},
   "outputs": [
    {
     "name": "stdout",
     "output_type": "stream",
     "text": [
      "Orignial Array:\n",
      " [[20  7  8]\n",
      " [10  1  5]\n",
      " [ 3  1 20]]\n",
      "Determinant of the array: -939.0\n",
      "Inverse of the array:\n",
      " [[-0.01597444  0.14057508 -0.02875399]\n",
      " [ 0.1970181  -0.40042599  0.02129925]\n",
      " [-0.00745474 -0.00106496  0.05324814]]\n",
      "Eigenvalues of the array: [-2.16201556 27.18662529 15.97539027]\n"
     ]
    }
   ],
   "source": [
    "arry = np.random.randint(1, 21, size=(3, 3))\n",
    "print(f\"Orignial Array:\\n {arry}\")\n",
    "arry_determinant = np.linalg.det(arry)\n",
    "print(f\"Determinant of the array: {arry_determinant}\") # determinant of the array\n",
    "arry_inverse = np.linalg.inv(arry)\n",
    "print(f\"Inverse of the array:\\n {arry_inverse}\") # inverse of the array\n",
    "arry_eigenvalues, arry_eigenvectors = np.linalg.eig(arry)\n",
    "print(f\"Eigenvalues of the array: {arry_eigenvalues}\") # eigenvalues of the array"
   ]
  },
  {
   "cell_type": "code",
   "execution_count": 21,
   "id": "1f880797",
   "metadata": {},
   "outputs": [
    {
     "name": "stdout",
     "output_type": "stream",
     "text": [
      "Array 1:\n",
      " [[ 7 10  5]\n",
      " [ 4  2 16]]\n",
      "Array 2:\n",
      " [[18  5]\n",
      " [20 19]\n",
      " [20 10]]\n",
      "Matrix Multiplication:\n",
      " [[426 275]\n",
      " [432 218]]\n"
     ]
    }
   ],
   "source": [
    "a1 = np.random.randint(1, 21, size=(2,3))\n",
    "a2 = np.random.randint(1, 21, size=(3,2))\n",
    "print(f\"Array 1:\\n {a1}\")\n",
    "print(f\"Array 2:\\n {a2}\")\n",
    "matrix_multiplication = np.dot(a1, a2)\n",
    "print(f\"Matrix Multiplication:\\n {matrix_multiplication}\") # matrix multiplication"
   ]
  },
  {
   "cell_type": "markdown",
   "id": "ddfd4702",
   "metadata": {},
   "source": [
    "### Assignment 7: Advanced Array Manipulation\n",
    "\n",
    "1. Create a NumPy array of shape (3, 3) with values from 1 to 9. Reshape the array to shape (1, 9) and then to shape (9, 1).\n",
    "2. Create a NumPy array of shape (5, 5) filled with random integers. Flatten the array and then reshape it back to (5, 5)."
   ]
  },
  {
   "cell_type": "code",
   "execution_count": 28,
   "id": "f0e6f4d6",
   "metadata": {},
   "outputs": [
    {
     "name": "stdout",
     "output_type": "stream",
     "text": [
      "Original Array:\n",
      " [[1 2 3]\n",
      " [4 5 6]\n",
      " [7 8 9]]\n",
      "Reshaped Array:\n",
      " [[1 2 3 4 5 6 7 8 9]]\n",
      "Reshaped Array:\n",
      " [[1]\n",
      " [2]\n",
      " [3]\n",
      " [4]\n",
      " [5]\n",
      " [6]\n",
      " [7]\n",
      " [8]\n",
      " [9]]\n"
     ]
    }
   ],
   "source": [
    "arr = np.array([[1, 2, 3], [4, 5, 6], [7, 8, 9]])\n",
    "reshape_arr = arr.reshape(1, 9)\n",
    "reshpape_arr2 = arr.reshape(9, 1)\n",
    "print(f\"Original Array:\\n {arr}\")\n",
    "print(f\"Reshaped Array:\\n {reshape_arr}\") # reshaped array to 1x9\n",
    "print(f\"Reshaped Array:\\n {reshpape_arr2}\") # reshaped array to 9x1"
   ]
  },
  {
   "cell_type": "code",
   "execution_count": null,
   "id": "4136df7b",
   "metadata": {},
   "outputs": [
    {
     "name": "stdout",
     "output_type": "stream",
     "text": [
      "Original Array:\n",
      " [[11  2 16  5  1]\n",
      " [ 9 12 10 18  4]\n",
      " [ 3 13  9 16 20]\n",
      " [20  8  8 15  1]\n",
      " [ 6 10  6  3 11]]\n",
      "Flattened Array:\n",
      " [11  2 16  5  1  9 12 10 18  4  3 13  9 16 20 20  8  8 15  1  6 10  6  3\n",
      " 11]\n",
      "Reshaped Array:\n",
      " [[11  2 16  5  1]\n",
      " [ 9 12 10 18  4]\n",
      " [ 3 13  9 16 20]\n",
      " [20  8  8 15  1]\n",
      " [ 6 10  6  3 11]]\n"
     ]
    }
   ],
   "source": [
    "array = np.random.randint(1, 21, size=(5, 5))\n",
    "print(f\"Original Array:\\n {array}\")\n",
    "flatten_array = array.flatten()\n",
    "print(f\"Flattened Array:\\n {flatten_array}\") # flatten the array\n",
    "flatten_reshape = flatten_array.reshape(5, 5)\n",
    "print(f\"Reshaped Array:\\n {flatten_reshape}\") # reshaped array to 5x5"
   ]
  },
  {
   "cell_type": "markdown",
   "id": "681829ae",
   "metadata": {},
   "source": [
    "### Assignment 8: Fancy Indexing and Boolean Indexing\n",
    "\n",
    "1. Create a NumPy array of shape (5, 5) filled with random integers. Use fancy indexing to extract the elements at the corners of the array.\n",
    "2. Create a NumPy array of shape (4, 4) filled with random integers. Use boolean indexing to set all elements greater than 10 to 10."
   ]
  },
  {
   "cell_type": "code",
   "execution_count": 39,
   "id": "8609ec50",
   "metadata": {},
   "outputs": [
    {
     "name": "stdout",
     "output_type": "stream",
     "text": [
      "Array:\n",
      " [[15 19  8  2 12]\n",
      " [11  6 15  2 15]\n",
      " [17 11 13 16 20]\n",
      " [11 20  5  4 16]\n",
      " [ 7 12 13  6 20]]\n",
      "Corner elements: [15 12  7 20]\n"
     ]
    }
   ],
   "source": [
    "s1 = np.random.randint(1,21, size=(5, 5))\n",
    "print(f\"Array:\\n {s1}\")\n",
    "# Get corner elements using fancy indexing\n",
    "corner_indices = [[0, 0], [0, -1], [-1, 0], [-1, -1]]  # [top-left, top-right, bottom-left, bottom-right]\n",
    "rows, cols = zip(*corner_indices)\n",
    "corners = s1[list(rows), list(cols)]\n",
    "\n",
    "print(\"Corner elements:\", corners)"
   ]
  },
  {
   "cell_type": "code",
   "execution_count": 47,
   "id": "e7f8d4cc",
   "metadata": {},
   "outputs": [
    {
     "name": "stdout",
     "output_type": "stream",
     "text": [
      "Original array:\n",
      " [[11  6  3  5]\n",
      " [12 15  4  5]\n",
      " [ 5  3 13  2]\n",
      " [ 1  4  6  8]]\n",
      "Masked array:\n",
      " [[10  6  3  5]\n",
      " [10 10  4  5]\n",
      " [ 5  3 10  2]\n",
      " [ 1  4  6  8]]\n"
     ]
    }
   ],
   "source": [
    "s2 = np.random.randint(1, 16, size=(4, 4))\n",
    "print(\"Original array:\\n\", s2)\n",
    "\n",
    "# Create a copy if you don't want to change the original\n",
    "s2_masked = s2.copy()\n",
    "\n",
    "# Apply mask\n",
    "mask = s2_masked > 10\n",
    "s2_masked[mask] = 10\n",
    "\n",
    "print(\"Masked array:\\n\", s2_masked)\n"
   ]
  },
  {
   "cell_type": "markdown",
   "id": "b7edd5f5",
   "metadata": {},
   "source": [
    "### Assignment 9: Structured Arrays\n",
    "\n",
    "1. Create a structured array with fields 'name' (string), 'age' (integer), and 'weight' (float). Add some data and sort the array by age.\n",
    "2. Create a structured array with fields 'x' and 'y' (both integers). Add some data and compute the Euclidean distance between each pair of points."
   ]
  },
  {
   "cell_type": "code",
   "execution_count": 62,
   "id": "55f16a7b",
   "metadata": {},
   "outputs": [
    {
     "name": "stdout",
     "output_type": "stream",
     "text": [
      "[('Charlie', 22, 68.3) ('Alice', 25, 55.5) ('Bob', 30, 72. )]\n"
     ]
    }
   ],
   "source": [
    "# Structured array\n",
    "dtype = [('name', 'U10'), ('age', 'int'), ('weight', 'float')]\n",
    "data = np.array([\n",
    "    ('Alice', 25, 55.5),\n",
    "    ('Bob', 30, 72),\n",
    "    ('Charlie', 22, 68.3)\n",
    "], dtype=dtype)\n",
    "\n",
    "# Sort by 'age'\n",
    "sorted_data = np.sort(data, order='age')\n",
    "\n",
    "print(sorted_data)\n"
   ]
  },
  {
   "cell_type": "code",
   "execution_count": 63,
   "id": "7041e25b",
   "metadata": {},
   "outputs": [
    {
     "name": "stdout",
     "output_type": "stream",
     "text": [
      "Original array:\n",
      "[(1, 2) (3, 4) (5, 6)]\n",
      "Euclidean distances:\n",
      "[[0.         2.82842712 5.65685425]\n",
      " [2.82842712 0.         2.82842712]\n",
      " [5.65685425 2.82842712 0.        ]]\n"
     ]
    }
   ],
   "source": [
    "data_type = [('x', 'i4'), ('y', 'i4')]\n",
    "data = np.array([(1, 2), (3, 4), (5, 6)], dtype=data_type)\n",
    "print(\"Original array:\")\n",
    "print(data)\n",
    "\n",
    "# Compute the Euclidean distance between each pair of points\n",
    "distances = np.sqrt((data['x'][:, np.newaxis] - data['x'])**2 + (data['y'][:, np.newaxis] - data['y'])**2)\n",
    "print(\"Euclidean distances:\")\n",
    "print(distances)"
   ]
  },
  {
   "cell_type": "markdown",
   "id": "f4b3bec3",
   "metadata": {},
   "source": [
    "### Assignment 10: Masked Arrays\n",
    "\n",
    "1. Create a masked array of shape (4, 4) with random integers and mask the elements greater than 10. Compute the sum of the unmasked elements.\n",
    "2. Create a masked array of shape (3, 3) with random integers and mask the diagonal elements. Replace the masked elements with the mean of the unmasked elements."
   ]
  },
  {
   "cell_type": "code",
   "execution_count": null,
   "id": "3d50de10",
   "metadata": {},
   "outputs": [
    {
     "name": "stdout",
     "output_type": "stream",
     "text": [
      "Original array:\n",
      "[[ 6  7 17  4]\n",
      " [15 16  1  7]\n",
      " [17 13 16  9]\n",
      " [15 20  6 19]]\n",
      "Masked array:\n",
      "[[6 7 -- 4]\n",
      " [-- -- 1 7]\n",
      " [-- -- -- 9]\n",
      " [-- -- 6 --]]\n",
      "Sum of unmasked elements: 40\n"
     ]
    }
   ],
   "source": [
    "from numpy import ma as ma\n",
    "# import numpy.ma as ma\n",
    "# Create a masked array of shape (4, 4) with random integers\n",
    "array = np.random.randint(1, 21, size=(4, 4))\n",
    "masked_array = ma.masked_greater(array, 10)\n",
    "print(\"Original array:\")\n",
    "print(array)\n",
    "print(\"Masked array:\")\n",
    "print(masked_array)\n",
    "\n",
    "# Compute the sum of the unmasked elements\n",
    "sum_unmasked = masked_array.sum()\n",
    "print(\"Sum of unmasked elements:\", sum_unmasked)"
   ]
  },
  {
   "cell_type": "code",
   "execution_count": 69,
   "id": "dbbcf630",
   "metadata": {},
   "outputs": [
    {
     "name": "stdout",
     "output_type": "stream",
     "text": [
      "Original Array:\n",
      " [[13  7 17]\n",
      " [12  7 20]\n",
      " [18  3  3]]\n",
      "Masked Array:\n",
      " [[-- 7 17]\n",
      " [12 -- 20]\n",
      " [18 3 --]]\n",
      "Modified masked array:\n",
      "[[12  7 17]\n",
      " [12 12 20]\n",
      " [18  3 12]]\n"
     ]
    }
   ],
   "source": [
    "array = np.random.randint(1,21, size=(3, 3) )\n",
    "masked_array = ma.masked_array(array,mask=np.eye(3, dtype=bool))\n",
    "print(f\"Original Array:\\n {array}\")\n",
    "print(f\"Masked Array:\\n {masked_array}\")\n",
    "\n",
    "# Replace the masked elements with the mean of the unmasked elements\n",
    "mean_unmasked = masked_array.mean()\n",
    "masked_array = masked_array.filled(mean_unmasked)\n",
    "print(\"Modified masked array:\")\n",
    "print(masked_array)\n"
   ]
  }
 ],
 "metadata": {
  "kernelspec": {
   "display_name": "venv",
   "language": "python",
   "name": "python3"
  },
  "language_info": {
   "codemirror_mode": {
    "name": "ipython",
    "version": 3
   },
   "file_extension": ".py",
   "mimetype": "text/x-python",
   "name": "python",
   "nbconvert_exporter": "python",
   "pygments_lexer": "ipython3",
   "version": "3.12.9"
  }
 },
 "nbformat": 4,
 "nbformat_minor": 5
}
